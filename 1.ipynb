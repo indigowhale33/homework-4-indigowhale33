{
 "cells": [
  {
   "cell_type": "markdown",
   "metadata": {},
   "source": [
    "# Homework 4: Modeling Text Data\n",
    "\n",
    "### Team Member 1:\n",
    "* UNI: gc2708 \n",
    "* Name: GwonJae Cho\n",
    "\n",
    "### Team Member 2 [optional]:\n",
    "* UNI:  \n",
    "* Name:\n"
   ]
  },
  {
   "cell_type": "markdown",
   "metadata": {},
   "source": [
    "You can find the data here: https://data.boston.gov/dataset/vision-zero-entry"
   ]
  },
  {
   "cell_type": "markdown",
   "metadata": {},
   "source": [
    "# Task1 - Data Cleaning  [10 points]"
   ]
  },
  {
   "cell_type": "markdown",
   "metadata": {},
   "source": [
    "Load the data, visualize the class distribution. Clean up the target labels. Some categories have been arbitrarily split and need to be consolidated. "
   ]
  },
  {
   "cell_type": "code",
   "execution_count": 1,
   "metadata": {
    "collapsed": false
   },
   "outputs": [],
   "source": [
    "# Add your code for task 1 here. You may use multiple cells. \n",
    "import numpy as np\n",
    "import pandas as pd\n",
    "import matplotlib.pyplot as plt\n",
    "\n",
    "def warn(*args, **kwargs):\n",
    "    pass\n",
    "import warnings\n",
    "warnings.warn = warn\n",
    "\n",
    "% matplotlib inline\n",
    "plt.rcParams[\"figure.dpi\"] = 100\n",
    "np.set_printoptions(precision=3, suppress=True)\n",
    "plt.style.use(['fivethirtyeight'])\n",
    "\n",
    "df = pd.read_csv('Vision_Zero_Entry.csv')\n",
    "df = df[[\"REQUESTTYPE\",\"COMMENTS\"]]\n",
    "df.dropna(axis=0, inplace=True)\n",
    "df.isnull().any()\n",
    "\n",
    "df.drop_duplicates(inplace=True, keep='last')\n",
    "\n",
    "# Remove and consolidate duplicates\n",
    "df[\"REQUESTTYPE\"].replace(\"there are no bike facilities or they need maintenance\",\"bike facilities don't exist or need improvement\",inplace=True)\n",
    "df[\"REQUESTTYPE\"].replace('\" src=\"images/14 - Other issue.png\"></span>&nbsp;of something that is not listed here', 'of something that is not listed here',inplace=True)\n",
    "df[\"REQUESTTYPE\"].replace(['\" src=\"images/02 - Wait is too long.png\"></span>&nbsp;the wait for the \"Walk\" signal is too long', \n",
    "                           'people have to wait too long for the \"Walk\" signal'],\n",
    "                          'the wait for the \"Walk\" signal is too long',inplace=True)\n",
    "df[\"REQUESTTYPE\"].replace(['\" src=\"images/11 - Sidewalk issue.png\"></span>&nbsp;sidewalks/ramps don\\'t exist or need improvement', \n",
    "                           'there are no sidewalks or they need maintenance'],\n",
    "                          \"sidewalks/ramps don't exist or need improvement\",inplace=True)\n",
    "df[\"REQUESTTYPE\"].replace([\"\"\"\\\" src=\\\"images/06 - Speeding.png\"></span>&nbsp;people speed\"\"\"],\n",
    "                          \"people speed\",inplace=True)\n",
    "\n",
    "df[\"REQUESTTYPE\"].replace(\"people have to cross too many lanes / too far\",\n",
    "                          \"it's too far / too many lanes to cross\",inplace=True)\n",
    "\n",
    "df[\"REQUESTTYPE\"].replace(['\" src=\"images/01 - Not enough time to cross.png\"></span>&nbsp;there\\'s not enough time to cross the street', \n",
    "                           'people are not given enough time to cross the street'],\n",
    "                          \"there's not enough time to cross the street\",inplace=True)\n",
    "\n",
    "df[\"REQUESTTYPE\"].replace(['\" src=\"images/12 - Bike facility issue.png\"></span>&nbsp;the roadway surface needs improvement', \n",
    "                           'the roadway surface needs maintenance'],\n",
    "                          \"the roadway surface needs improvement\",inplace=True)\n",
    "df[\"REQUESTTYPE\"].replace(['\" src=\"images/10 - Hard to see.png\"></span>&nbsp;it’s hard to see / low visibility', \n",
    "                           'it’s hard for people to see each other'],\n",
    "                          \"it’s hard to see / low visibility\",inplace=True)\n",
    "\n",
    "\n",
    "target = df[[\"REQUESTTYPE\"]]\n",
    "df = df[[\"COMMENTS\"]]\n",
    "target_c = target"
   ]
  },
  {
   "cell_type": "code",
   "execution_count": 3,
   "metadata": {
    "collapsed": false
   },
   "outputs": [
    {
     "name": "stdout",
     "output_type": "stream",
     "text": [
      "[0 3 5 ..., 9 6 2]\n"
     ]
    }
   ],
   "source": [
    "from sklearn.preprocessing import LabelEncoder\n",
    "le=LabelEncoder()\n",
    "\n",
    "target = le.fit_transform(target)\n",
    "\n",
    "from sklearn.model_selection import train_test_split\n",
    "X_train_sub, X_test_val, y_train_sub, y_test_val = train_test_split(df, target, random_state=0)"
   ]
  },
  {
   "cell_type": "markdown",
   "metadata": {},
   "source": [
    "# Task2 - Model 1 [10 points]"
   ]
  },
  {
   "cell_type": "markdown",
   "metadata": {},
   "source": [
    "Run a baseline multi-class classification model using a bag-of-word approach, report macro f1-score (should be above .5) and visualize the confusion matrix. Can you interpret the mistakes made by the model? "
   ]
  },
  {
   "cell_type": "code",
   "execution_count": 4,
   "metadata": {
    "collapsed": false
   },
   "outputs": [
    {
     "name": "stdout",
     "output_type": "stream",
     "text": [
      "0.504366642269\n"
     ]
    }
   ],
   "source": [
    "from sklearn.feature_extraction.text import CountVectorizer\n",
    "\n",
    "#Vanilla bag of words\n",
    "vect = CountVectorizer()\n",
    "X_train = vect.fit_transform(X_train_sub[\"COMMENTS\"])\n",
    "X_test = vect.transform(X_test_val[\"COMMENTS\"])\n",
    "\n",
    "from sklearn.linear_model import LogisticRegressionCV\n",
    "\n",
    "lr = LogisticRegressionCV().fit(X_train, y_train_sub)\n",
    "\n",
    "from sklearn.metrics import f1_score\n",
    "pred = lr.predict(X_test)\n",
    "assert(f1_score(y_test_val, pred , average = 'macro') > 0.35)\n"
   ]
  },
  {
   "cell_type": "markdown",
   "metadata": {},
   "source": [
    "# Task3 - Model 2 [30 points]"
   ]
  },
  {
   "cell_type": "markdown",
   "metadata": {},
   "source": [
    "Improve the model using more complex text features, including n-grams, character n-grams and possibly domain-specific features."
   ]
  },
  {
   "cell_type": "code",
   "execution_count": 6,
   "metadata": {
    "collapsed": false
   },
   "outputs": [
    {
     "name": "stdout",
     "output_type": "stream",
     "text": [
      "[2 3 8 ..., 9 3 8]\n",
      "[ 2 10  5 ...,  9  3  5]\n",
      "0.515836722743\n"
     ]
    }
   ],
   "source": [
    "# Bag of words with ngram = (1,3)\n",
    "cv = CountVectorizer(ngram_range=(1,3),min_df=3,stop_words='english')\n",
    "X_train = cv.fit_transform(X_train_sub[\"COMMENTS\"])\n",
    "X_test = cv.transform(X_test_val[\"COMMENTS\"])\n",
    "\n",
    "lr = LogisticRegressionCV().fit(X_train, y_train_sub)\n",
    "\n",
    "pred = lr.predict(X_test)\n",
    "assert(f1_score(y_test_val, pred , average = 'macro') > 0.45)"
   ]
  },
  {
   "cell_type": "code",
   "execution_count": 7,
   "metadata": {
    "collapsed": false
   },
   "outputs": [
    {
     "name": "stdout",
     "output_type": "stream",
     "text": [
      "[2 0 5 ..., 8 3 8]\n",
      "[ 2 10  5 ...,  9  3  5]\n",
      "0.502563559343\n"
     ]
    }
   ],
   "source": [
    "from sklearn.feature_extraction.text import TfidfVectorizer\n",
    "\n",
    "#Used character word boundary\n",
    "cv = CountVectorizer(ngram_range=(2,3),min_df=3, analyzer='char_wb')\n",
    "X_train = cv.fit_transform(X_train_sub[\"COMMENTS\"])\n",
    "X_test = cv.transform(X_test_val[\"COMMENTS\"])\n",
    "\n",
    "lr = LogisticRegressionCV().fit(X_train, y_train_sub)\n",
    "\n",
    "pred = lr.predict(X_test)\n",
    "assert(f1_score(y_test_val, pred , average = 'macro') > 0.4)"
   ]
  },
  {
   "cell_type": "markdown",
   "metadata": {},
   "source": [
    "# Task4 - Visualize Results [10 points]"
   ]
  },
  {
   "cell_type": "markdown",
   "metadata": {},
   "source": [
    "Visualize results of the tuned model (classification results, confusion matrix, important features, example mistakes)."
   ]
  },
  {
   "cell_type": "markdown",
   "metadata": {},
   "source": [
    "# Task5 - Clustering [10 points]"
   ]
  },
  {
   "cell_type": "markdown",
   "metadata": {},
   "source": [
    "Apply LDA, NMF and K-Means to the whole dataset. Can you find clusters or topics that match well with some of the ground truth labels? Use ARI to compare the methods and visualize topics and clusters."
   ]
  },
  {
   "cell_type": "code",
   "execution_count": 11,
   "metadata": {
    "collapsed": false
   },
   "outputs": [
    {
     "name": "stdout",
     "output_type": "stream",
     "text": [
      "topic 0                 topic 1                 topic 2                 topic 3                 topic 4                 \n",
      "-----------------      -----------------      -----------------      -----------------      -----------------      \n",
      "street                        cars                          light                         left                          stop                          \n",
      "cars                          bike                          red                           traffic                       st                            \n",
      "people                        road                          run                           turn                          traffic                       \n",
      "pedestrians                   sidewalk                      turn                          going                         street                        \n",
      "ave                           crosswalk                     cars                          lane                          people                        \n",
      "st                            bikes                         green                         straight                      cars                          \n",
      "drivers                       pedestrians                   lights                        intersection                  drivers                       \n",
      "speed                         dangerous                     red light                     ave                           intersection                  \n",
      "cross                         intersection                  right                         st                            sign                          \n",
      "dangerous                     stop                          pedestrians                   cars                          ave                           \n",
      "intersection                  pedestrian                    people                        right                         crosswalk                     \n",
      "way                           path                          left                          going straight                stop sign                     \n",
      "road                          parked                        traffic                       lanes                         park                          \n",
      "crosswalk                     traffic                       walk                          turning                       going                         \n",
      "hard                          crossing                      run red                       drivers                       walk                          \n",
      "traffic                       street                        intersection                  light                         dangerous                     \n",
      "turning                       narrow                        turning                       left turn                     speed                         \n",
      "bikes                         bus                           sign                          mass                          crossing                      \n",
      "stop                          boston                        red lights                    mass ave                      way                           \n",
      "crossing                      needs                         cross                         people                        cross                         \n",
      "\n",
      "\n",
      "topic 5                 topic 6                 topic 7                 topic 8                 topic 9                 \n",
      "-----------------      -----------------      -----------------      -----------------      -----------------      \n",
      "lane                          street                        walk                          street                        street                        \n",
      "bike                          st                            signal                        cars                          people                        \n",
      "bike lane                     people                        cross                         people                        cars                          \n",
      "lanes                         traffic                       walk signal                   traffic                       cross                         \n",
      "traffic                       way                           people                        speed                         st                            \n",
      "right                         stop                          long                          intersection                  speed                         \n",
      "cars                          cars                          pedestrians                   dangerous                     turn                          \n",
      "double                        crosswalk                     wait                          park                          traffic                       \n",
      "people                        cross                         intersection                  cross                         intersection                  \n",
      "bike lanes                    sign                          stop                          turn                          way                           \n",
      "left                          drivers                       traffic                       pedestrian                    walk                          \n",
      "park                          pedestrians                   time                          children                      crosswalk                     \n",
      "dangerous                     turn                          cars                          light                         drivers                       \n",
      "drivers                       washington                    sign                          block                         left                          \n",
      "parking                       intersection                  street                        st                            road                          \n",
      "need                          park                          crosswalk                     stop                          dangerous                     \n",
      "turn                          stop sign                     crossing                      bike                          pedestrians                   \n",
      "street                        speed                         takes                         way                           stop                          \n",
      "road                          right                         light                         pedestrians                   right                         \n",
      "double park                   road                          dangerous                     parking                       drive                         \n",
      "\n",
      "\n",
      "topic 10                topic 11                topic 12                \n",
      "-----------------      -----------------      -----------------      \n",
      "\n",
      "\n"
     ]
    }
   ],
   "source": [
    "# from sklearn.decomposition import LatentDirichletAllocation\n",
    "# import mglearn\n",
    "# from mglearn.tools import print_topics\n",
    "\n",
    "# # LDA to extract topics\n",
    "# vect = CountVectorizer(ngram_range=(1,2), stop_words='english')\n",
    "# X = vect.fit_transform(df[\"COMMENTS\"])\n",
    "\n",
    "# lda = LatentDirichletAllocation(n_topics=12, learning_method=\"batch\", max_iter=25, random_state=0)\n",
    "\n",
    "# document_topics = lda.fit_transform(X)\n",
    "    \n",
    "# sorting = np.argsort(lda.components_, axis=1)[:, ::-1]\n",
    "# feature_names = np.array(vect.get_feature_names())\n",
    "\n",
    "# mglearn.tools.print_topics(topics=range(13), feature_names=feature_names,\n",
    "# sorting=sorting, topics_per_chunk=5, n_words=20)"
   ]
  },
  {
   "cell_type": "code",
   "execution_count": 12,
   "metadata": {
    "collapsed": false
   },
   "outputs": [
    {
     "name": "stdout",
     "output_type": "stream",
     "text": [
      "violation: 1.0\n",
      "violation: 0.4510477041243306\n",
      "violation: 0.27204885362963893\n",
      "violation: 0.14776041303408743\n",
      "violation: 0.094007723440683\n",
      "violation: 0.07096002859540299\n",
      "violation: 0.059976253410998694\n",
      "violation: 0.052858228949005145\n",
      "violation: 0.046605264460541695\n",
      "violation: 0.04123467803110079\n",
      "violation: 0.03725625740304253\n",
      "violation: 0.035018522253607645\n",
      "violation: 0.035283110624897585\n",
      "violation: 0.03780478529215002\n",
      "violation: 0.04172468519395488\n",
      "violation: 0.04558489674116509\n",
      "violation: 0.04722673112807802\n",
      "violation: 0.045714042372578256\n",
      "violation: 0.04022042014822228\n",
      "violation: 0.0319667764072917\n",
      "violation: 0.022985822666343688\n",
      "violation: 0.01562713949535939\n",
      "violation: 0.010624805067358349\n",
      "violation: 0.007589018299919157\n",
      "Converged at iteration 24\n",
      "topic 0                 topic 1                 topic 2                 topic 3                 topic 4                 \n",
      "-----------------      -----------------      -----------------      -----------------      -----------------      \n",
      "light                         lane                          street                        stop                          cross                         \n",
      "red                           bike lane                     speed                         sign                          people                        \n",
      "run                           bike                          people                        stop sign                     crosswalk                     \n",
      "red light                     need                          people speed                  stop signs                    people cross                  \n",
      "run red                       markings                      cut                           stop stop                     cross street                  \n",
      "lights                        right                         children                      signs                         cross walk                    \n",
      "run red light                 right lane                    school                        run stop                      time                          \n",
      "red lights                    park bike lane                speed street                  run stop sign                 crosswalks                    \n",
      "green                         protected                     bumps                         stop stop sign                pedestrians cross             \n",
      "run red lights                cyclists                      residential                   bus                           wait                          \n",
      "people run                    lane markings                 speed bumps                   drivers                       bus                           \n",
      "turn red                      protected bike lane           use                           don stop                      time cross                    \n",
      "running                       park bike                     speed limit                   way stop                      pedestrian                    \n",
      "drivers                       disappears                    cars speed                    bus stop                      long                          \n",
      "people                        facilities                    dangerous                     run                           trying cross                  \n",
      "people run red                bike facilities               sidewalks                     drivers stop                  cross walks                   \n",
      "running red                   protected bike                limit                         stops                         walks                         \n",
      "drivers run                   road                          street people                 sign intersection             trying                        \n",
      "run light                     lane disappears               cross street                  stop sign intersection        area                          \n",
      "green light                   lane bike                     way street                    people                        walk                          \n",
      "\n",
      "\n",
      "topic 5                 topic 6                 topic 7                 topic 8                 topic 9                 \n",
      "-----------------      -----------------      -----------------      -----------------      -----------------      \n",
      "yield                         lanes                         walk                          park                          left                          \n",
      "pedestrians                   bike lanes                    signal                        double                        turn                          \n",
      "crosswalk                     bike                          walk signal                   parking                       right                         \n",
      "yield pedestrians             facilities                    long                          double park                   left turn                     \n",
      "drivers                       bike facilities               wait                          people                        lane                          \n",
      "don                           path                          walk sign                     people double                 straight                      \n",
      "don yield                     bike path                     pedestrians                   double parking                turning                       \n",
      "pedestrians crosswalk         space                         time                          people double park            turn left                     \n",
      "don yield pedestrians         need                          takes                         people park                   turn lane                     \n",
      "yield pedestrians crosswalk   needs                         button                        double parked                 left lane                     \n",
      "drivers don                   needs bike                    pedestrians walk              lot                           turning left                  \n",
      "turning                       protected                     crossing                      park bike                     right turn                    \n",
      "drivers don yield             needs bike lanes              green                         cars double                   turn right                    \n",
      "drivers yield                 sharrows                      signals                       parking lot                   make                          \n",
      "cars don                      cycle                         walk signals                  vehicles                      arrow                         \n",
      "crossing                      space bike                    wait walk                     park bike lane                turns                         \n",
      "cars don yield                protected bike                wait walk signal              bus                           left turn lane                \n",
      "drivers yield pedestrians     space bike lanes              pedestrians walk signal       constantly                    right lane                    \n",
      "drivers turning               tracks                        cross walk                    parked                        make left                     \n",
      "right                         travel lanes                  don walk                      store                         going                         \n",
      "\n",
      "\n",
      "topic 10                topic 11                topic 12                \n",
      "-----------------      -----------------      -----------------      \n",
      "way                           st                            cars                          \n",
      "wrong                         washington                    parked                        \n",
      "wrong way                     washington st                 coming                        \n",
      "drive                         ave                           cars parked                   \n",
      "way street                    need                          parked cars                   \n",
      "fast                          south                         cars coming                   \n",
      "way way                       beacon st                     turning                       \n",
      "people drive                  mass ave                      difficult                     \n",
      "drive wrong                   mass                          road                          \n",
      "wrong way way                 beacon                        corner                        \n",
      "drive wrong way               need bike                     speeding                      \n",
      "way fast                      crosswalks                    cars turning                  \n",
      "people                        comm                          hard                          \n",
      "way way street                cambridge st                  bikes                         \n",
      "street                        comm ave                      double parked                 \n",
      "drive way                     cambridge                     fast                          \n",
      "drive way fast                coming                        cars double                   \n",
      "drive fast                    west                          visibility                    \n",
      "right way                     centre st                     cars speed                    \n",
      "going                         cycle                         hard cars                     \n",
      "\n",
      "\n"
     ]
    }
   ],
   "source": [
    "# from sklearn.decomposition import NMF\n",
    "# from sklearn.feature_extraction.text import TfidfVectorizer\n",
    "\n",
    "# # NMF for extracting topics\n",
    "# vect = TfidfVectorizer(ngram_range=(1,3), min_df=3,stop_words='english')\n",
    "# X = vect.fit_transform(df[\"COMMENTS\"])\n",
    "# nmf = NMF(n_components=15, verbose=10, tol=0.01)\n",
    "# nmf.fit(X)\n",
    "# sorting = np.argsort(nmf.components_, axis=1)[:, ::-1]\n",
    "# feature_names = np.array(vect.get_feature_names())\n",
    "\n",
    "# # Visualize the NMF result\n",
    "# mglearn.tools.print_topics(topics=range(13), feature_names=feature_names,\n",
    "# sorting=sorting, topics_per_chunk=5, n_words=20)"
   ]
  },
  {
   "cell_type": "code",
   "execution_count": 13,
   "metadata": {
    "collapsed": false
   },
   "outputs": [
    {
     "name": "stdout",
     "output_type": "stream",
     "text": [
      "CPU times: user 42.5 s, sys: 640 ms, total: 43.2 s\n",
      "Wall time: 21.8 s\n",
      "Adjusted Rand-Index: 0.089\n"
     ]
    }
   ],
   "source": [
    "# from sklearn.cluster import KMeans\n",
    "# from sklearn import metrics\n",
    "\n",
    "# km = KMeans(n_clusters=13)\n",
    "# X = vect.fit_transform(df[\"COMMENTS\"])\n",
    "# %time km.fit(X)\n",
    "\n",
    "# clusters = km.labels_.tolist()\n",
    "# print(\"Adjusted Rand-Index: %.3f\"\n",
    "#       % metrics.adjusted_rand_score(target, clusters))"
   ]
  },
  {
   "cell_type": "markdown",
   "metadata": {},
   "source": [
    "# Task6 - Model 3 [30 points]"
   ]
  },
  {
   "cell_type": "markdown",
   "metadata": {},
   "source": [
    "Improve the class definition for REQUESTTYPE by using the results of the clustering and results of the previous classification model. Re-assign labels using either the results of clustering or using keywords that you found during data exploration. The labels must be semantically meaningful.\n",
    "The data has a large “other” category. Apply the topic modeling and clustering techniques to this subset of the data to find possible splits of this class.\n",
    "Report accuracy using macro average f1 score (should be above .53) \n"
   ]
  },
  {
   "cell_type": "code",
   "execution_count": 14,
   "metadata": {
    "collapsed": false
   },
   "outputs": [
    {
     "name": "stdout",
     "output_type": "stream",
     "text": [
      "(array([0, 1, 2, 3, 4]), array([705, 189, 141, 178, 187]))\n",
      "topic 0                 topic 1                 topic 2                 \n",
      "-----------------      -----------------      -----------------      \n",
      "drive wrong way               going wrong way               pedestrian crossing light     \n",
      "wrong way way                 right turn lane               slow pedestrian crossing      \n",
      "wrong way way street          chestnut hill ave             cross intersection pedestrian \n",
      "way way street                bicyclists ride sidewalk      cross intersection pedestrian light\n",
      "left turn lane                cars turning left             feel safer crossing mid block \n",
      "people drive wrong            hyde park ave                 feel safer crossing mid       \n",
      "people drive wrong way        middle lane turn              feel safer crossing           \n",
      "hyde park ave                 people right lane             mid block attempt             \n",
      "drive wrong way way           left lane straight            mid block attempt cross       \n",
      "left turn lanes               left lane drivers             vehicles weave pedestrians    \n",
      "illegal left turns            lane left lane                block attempt cross           \n",
      "make illegal left             street cars park              weave pedestrians feel        \n",
      "drivers drive wrong way       morning rush hour             slow pedestrian crossing light vehicles\n",
      "drivers drive wrong           accident waiting happen       mid block attempt cross intersection\n",
      "drive wrong way way street    stop red light                vehicles weave pedestrians feel\n",
      "people wrong way              right hand lane               vehicles weave pedestrians feel safer\n",
      "straight left turn            rush hour traffic             block attempt cross intersection pedestrian\n",
      "continue straight left        right lane right              block attempt cross intersection\n",
      "continue straight left turn   stop pedestrians cross        weave pedestrians feel safer crossing\n",
      "people wrong way way          straight left lane            intersection pedestrian light \n",
      "\n",
      "\n",
      "topic 3                 topic 4                 \n",
      "-----------------      -----------------      \n",
      "right turn lane               make left turn                \n",
      "yield pedestrians crosswalk   left turn lane                \n",
      "cars turning right            turn red sign                 \n",
      "left lane left                don yield pedestrians         \n",
      "cars block box                traffic going straight        \n",
      "run red lights                cars don yield pedestrians    \n",
      "block intersection cars       cars don yield                \n",
      "fail yield pedestrians        left turn sign                \n",
      "narrow way street             crossing comm ave             \n",
      "entrance parking lot          drive wrong way               \n",
      "lane left turn                left turn arrow               \n",
      "speed fail yield pedestrians  people turning left           \n",
      "speed fail yield              accident waiting happen       \n",
      "left lane left turn           drive bike lane               \n",
      "need better signage           ave light turns               \n",
      "stop sign cars                comm ave light                \n",
      "exit parking lot              turn lane straight            \n",
      "needs traffic light           left turn lane straight       \n",
      "lane alignment poor           people park sides             \n",
      "cars left lane                ave washington st             \n",
      "\n",
      "\n"
     ]
    }
   ],
   "source": [
    "# import mglearn\n",
    "# from mglearn import tools\n",
    "\n",
    "# vect = CountVectorizer(ngram_range=(3,5), min_df=2, stop_words='english')\n",
    "# X = vect.fit_transform(df[\"COMMENTS\"])\n",
    "\n",
    "\n",
    "# lda = LatentDirichletAllocation(n_topics=5, learning_method=\"batch\", max_iter=25, random_state=0)\n",
    "\n",
    "# document_topics = lda.fit_transform(X[np.where(target==3)])\n",
    "# sorting = np.argsort(lda.components_, axis=1)[:, ::-1]\n",
    "# feature_names = np.array(vect.get_feature_names())\n",
    "\n",
    "# mglearn.tools.print_topics(topics=range(5), feature_names=feature_names,\n",
    "# sorting=sorting, topics_per_chunk=3, n_words=20)\n"
   ]
  },
  {
   "cell_type": "code",
   "execution_count": 16,
   "metadata": {
    "collapsed": false
   },
   "outputs": [
    {
     "name": "stdout",
     "output_type": "stream",
     "text": [
      "[ 3  4  9 ..., 10  4  9]\n",
      "[ 3 11  6 ..., 10  4  6]\n",
      "0.548147387817\n"
     ]
    }
   ],
   "source": [
    "# # with the above clustering, we can see going wrong way can be one new label which semantically meaningful\n",
    "# target_c[df['COMMENTS'].str.contains(\"wrong way\")] = \"going wrong way\"\n",
    "\n",
    "# le=LabelEncoder()\n",
    "# target_c = le.fit_transform(target_c)\n",
    "# X_train_sub, X_test_val, y_train_sub, y_test_val = train_test_split(df, target_c, random_state=0)\n",
    "\n",
    "# cv = CountVectorizer(ngram_range=(1,3),min_df=3,stop_words='english')\n",
    "# X_train = cv.fit_transform(X_train_sub[\"COMMENTS\"])\n",
    "# X_test = cv.transform(X_test_val[\"COMMENTS\"])\n",
    "\n",
    "# lr = LogisticRegressionCV().fit(X_train, y_train_sub)\n",
    "\n",
    "\n",
    "# pred = lr.predict(X_test)\n",
    "# assert(f1_score(y_test_val, pred , average = 'macro') > 0.53)"
   ]
  },
  {
   "cell_type": "markdown",
   "metadata": {},
   "source": [
    "# Extra Credit [Up to +20 points]"
   ]
  },
  {
   "cell_type": "markdown",
   "metadata": {},
   "source": [
    "Use a word embedding representation like word2vec for step 3 and or step 6. "
   ]
  },
  {
   "cell_type": "code",
   "execution_count": 17,
   "metadata": {
    "collapsed": true
   },
   "outputs": [],
   "source": [
    "# Add your code for extra credit here. You may use multiple cells. \n",
    "\n"
   ]
  }
 ],
 "metadata": {
  "anaconda-cloud": {},
  "kernelspec": {
   "display_name": "Python [conda root]",
   "language": "python",
   "name": "conda-root-py"
  },
  "language_info": {
   "codemirror_mode": {
    "name": "ipython",
    "version": 3
   },
   "file_extension": ".py",
   "mimetype": "text/x-python",
   "name": "python",
   "nbconvert_exporter": "python",
   "pygments_lexer": "ipython3",
   "version": "3.5.2"
  }
 },
 "nbformat": 4,
 "nbformat_minor": 1
}
